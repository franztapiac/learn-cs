{
 "cells": [
  {
   "cell_type": "markdown",
   "metadata": {},
   "source": [
    "Learning C Sharp (freeCodeCamp.org)"
   ]
  },
  {
   "cell_type": "markdown",
   "metadata": {},
   "source": [
    "namespace < your namespace >\n",
    "\n",
    "{\n",
    "\n",
    "    class Program\n",
    "\n",
    "    {\n",
    "\n",
    "        static void Main(string[] args)\n",
    "\n",
    "        {\n",
    "\n",
    "            ... each piece of code below\n",
    "\n",
    "        }\n",
    "\n",
    "    }\n",
    "\n",
    "}\n"
   ]
  },
  {
   "cell_type": "markdown",
   "metadata": {},
   "source": [
    "# Working with strings\n",
    "- There are a lot of C Sharp string methods"
   ]
  },
  {
   "cell_type": "code",
   "execution_count": null,
   "metadata": {
    "dotnet_interactive": {
     "language": "csharp"
    },
    "vscode": {
     "languageId": "dotnet-interactive.csharp"
    }
   },
   "outputs": [
    {
     "name": "stdout",
     "output_type": "stream",
     "text": [
      "Giraffe\n",
      "Academy\r\n",
      "Giraffe\"Academy\r\n"
     ]
    }
   ],
   "source": [
    "Console.WriteLine(\"Giraffe\\nAcademy\");\n",
    "Console.WriteLine(\"Giraffe\\\"Academy\");"
   ]
  },
  {
   "cell_type": "code",
   "execution_count": null,
   "metadata": {
    "dotnet_interactive": {
     "language": "csharp"
    },
    "vscode": {
     "languageId": "dotnet-interactive.csharp"
    }
   },
   "outputs": [
    {
     "name": "stdout",
     "output_type": "stream",
     "text": [
      "Giraffe Academy\r\n",
      "Giraffe Academy is cool\r\n"
     ]
    }
   ],
   "source": [
    "string phrase = \"Giraffe Academy\";\n",
    "Console.WriteLine(phrase);\n",
    "\n",
    "string phrase2 = phrase + \" is cool\";\n",
    "Console.WriteLine(phrase2);\n"
   ]
  },
  {
   "cell_type": "code",
   "execution_count": null,
   "metadata": {
    "dotnet_interactive": {
     "language": "csharp"
    },
    "vscode": {
     "languageId": "dotnet-interactive.csharp"
    }
   },
   "outputs": [
    {
     "name": "stdout",
     "output_type": "stream",
     "text": [
      "15\r\n",
      "GIRAFFE ACADEMY\r\n",
      "giraffe academy\r\n"
     ]
    }
   ],
   "source": [
    "Console.WriteLine(phrase.Length); // Length is a method\n",
    "\n",
    "Console.WriteLine(phrase.ToUpper()); // uppercade method\n",
    "Console.WriteLine(phrase.ToLower()); // lowercase method"
   ]
  },
  {
   "cell_type": "code",
   "execution_count": null,
   "metadata": {
    "dotnet_interactive": {
     "language": "csharp"
    },
    "vscode": {
     "languageId": "dotnet-interactive.csharp"
    }
   },
   "outputs": [
    {
     "name": "stdout",
     "output_type": "stream",
     "text": [
      "True\r\n",
      "False\r\n",
      "G\r\n",
      "r\r\n"
     ]
    }
   ],
   "source": [
    "Console.WriteLine(phrase.Contains(\"Academy\"));\n",
    "Console.WriteLine(phrase.Contains(\"Academies\"));\n",
    "\n",
    "Console.WriteLine(phrase[0]); // 0 indexed\n",
    "Console.WriteLine(phrase[2]); // 0 indexed"
   ]
  },
  {
   "cell_type": "code",
   "execution_count": null,
   "metadata": {
    "dotnet_interactive": {
     "language": "csharp"
    },
    "vscode": {
     "languageId": "dotnet-interactive.csharp"
    }
   },
   "outputs": [
    {
     "name": "stdout",
     "output_type": "stream",
     "text": [
      "Giraffe Academy\r\n",
      "8\r\n",
      "4\r\n",
      "-1\r\n"
     ]
    }
   ],
   "source": [
    "Console.WriteLine(phrase);\n",
    "Console.WriteLine(phrase.IndexOf(\"Academy\")); // Position where Academy starts\n",
    "Console.WriteLine(phrase.IndexOf(\"f\"));\n",
    "Console.WriteLine(phrase.IndexOf(\"z\")); // Character is not in there"
   ]
  },
  {
   "cell_type": "code",
   "execution_count": null,
   "metadata": {
    "dotnet_interactive": {
     "language": "csharp"
    },
    "vscode": {
     "languageId": "dotnet-interactive.csharp"
    }
   },
   "outputs": [
    {
     "name": "stdout",
     "output_type": "stream",
     "text": [
      "Academy\r\n",
      "Aca\r\n"
     ]
    }
   ],
   "source": [
    "Console.WriteLine(phrase.Substring(8)); // give index to start, goes to end of screen\n",
    "Console.WriteLine(phrase.Substring(8,3)); // can also pass length"
   ]
  },
  {
   "cell_type": "markdown",
   "metadata": {},
   "source": [
    "# Numbers \n",
    "- whole and decimals are different in C Sharp"
   ]
  },
  {
   "cell_type": "code",
   "execution_count": null,
   "metadata": {
    "dotnet_interactive": {
     "language": "csharp"
    },
    "vscode": {
     "languageId": "dotnet-interactive.csharp"
    }
   },
   "outputs": [
    {
     "name": "stdout",
     "output_type": "stream",
     "text": [
      "20\r\n",
      "13\r\n"
     ]
    }
   ],
   "source": [
    "Console.WriteLine(20);\n",
    "Console.WriteLine(5+8);"
   ]
  },
  {
   "cell_type": "code",
   "execution_count": null,
   "metadata": {
    "dotnet_interactive": {
     "language": "csharp"
    },
    "vscode": {
     "languageId": "dotnet-interactive.csharp"
    }
   },
   "outputs": [
    {
     "name": "stdout",
     "output_type": "stream",
     "text": [
      "-3\r\n",
      "0\r\n",
      "40\r\n"
     ]
    }
   ],
   "source": [
    "Console.WriteLine(5-8);\n",
    "Console.WriteLine(5/8);\n",
    "Console.WriteLine(5*8);"
   ]
  },
  {
   "cell_type": "code",
   "execution_count": null,
   "metadata": {
    "dotnet_interactive": {
     "language": "csharp"
    },
    "vscode": {
     "languageId": "dotnet-interactive.csharp"
    }
   },
   "outputs": [
    {
     "name": "stdout",
     "output_type": "stream",
     "text": [
      "1\r\n"
     ]
    }
   ],
   "source": [
    "Console.WriteLine(5%2); // remainder of division operation"
   ]
  },
  {
   "cell_type": "code",
   "execution_count": null,
   "metadata": {
    "dotnet_interactive": {
     "language": "csharp"
    },
    "vscode": {
     "languageId": "dotnet-interactive.csharp"
    }
   },
   "outputs": [
    {
     "name": "stdout",
     "output_type": "stream",
     "text": [
      "11\r\n",
      "10\r\n",
      "20\r\n"
     ]
    }
   ],
   "source": [
    "Console.WriteLine(4*2+3); // multiplication first\n",
    "Console.WriteLine(4+2*3);\n",
    "Console.WriteLine(4*(2+3));"
   ]
  },
  {
   "cell_type": "markdown",
   "metadata": {},
   "source": [
    "### Integers vs decimals"
   ]
  },
  {
   "cell_type": "code",
   "execution_count": null,
   "metadata": {
    "dotnet_interactive": {
     "language": "csharp"
    },
    "vscode": {
     "languageId": "dotnet-interactive.csharp"
    }
   },
   "outputs": [
    {
     "name": "stdout",
     "output_type": "stream",
     "text": [
      "13.1\r\n",
      "13.1\r\n"
     ]
    }
   ],
   "source": [
    "Console.WriteLine(5.0+8.1);\n",
    "Console.WriteLine(5+8.1);\n"
   ]
  },
  {
   "cell_type": "code",
   "execution_count": null,
   "metadata": {
    "dotnet_interactive": {
     "language": "csharp"
    },
    "vscode": {
     "languageId": "dotnet-interactive.csharp"
    }
   },
   "outputs": [
    {
     "name": "stdout",
     "output_type": "stream",
     "text": [
      "2\r\n",
      "2.5\r\n"
     ]
    }
   ],
   "source": [
    "Console.WriteLine(5/2); // get integer back\n",
    "Console.WriteLine(5/2.0); // get decimal back"
   ]
  },
  {
   "cell_type": "code",
   "execution_count": null,
   "metadata": {
    "dotnet_interactive": {
     "language": "csharp"
    },
    "vscode": {
     "languageId": "dotnet-interactive.csharp"
    }
   },
   "outputs": [
    {
     "name": "stdout",
     "output_type": "stream",
     "text": [
      "5\r\n"
     ]
    }
   ],
   "source": [
    "int num = 6;\n",
    "num--;\n",
    "Console.WriteLine(num);\n"
   ]
  },
  {
   "cell_type": "markdown",
   "metadata": {},
   "source": [
    "### Math operations\n",
    "- There are predefined methods"
   ]
  },
  {
   "cell_type": "code",
   "execution_count": null,
   "metadata": {
    "dotnet_interactive": {
     "language": "csharp"
    },
    "vscode": {
     "languageId": "dotnet-interactive.csharp"
    }
   },
   "outputs": [
    {
     "name": "stdout",
     "output_type": "stream",
     "text": [
      "40\r\n",
      "14.44\r\n"
     ]
    }
   ],
   "source": [
    "Console.WriteLine(Math.Abs(-40)); // absolute value\n",
    "Console.WriteLine(Math.Pow(3.8, 2)); // power\n"
   ]
  },
  {
   "cell_type": "code",
   "execution_count": null,
   "metadata": {
    "dotnet_interactive": {
     "language": "csharp"
    },
    "vscode": {
     "languageId": "dotnet-interactive.csharp"
    }
   },
   "outputs": [
    {
     "name": "stdout",
     "output_type": "stream",
     "text": [
      "90\r\n",
      "4\r\n"
     ]
    }
   ],
   "source": [
    "Console.WriteLine(Math.Max(4,90)); // maximum value\n",
    "Console.WriteLine(Math.Min(4,90)); // minimum value"
   ]
  },
  {
   "cell_type": "code",
   "execution_count": null,
   "metadata": {
    "dotnet_interactive": {
     "language": "csharp"
    },
    "vscode": {
     "languageId": "dotnet-interactive.csharp"
    }
   },
   "outputs": [
    {
     "name": "stdout",
     "output_type": "stream",
     "text": [
      "4\r\n",
      "5\r\n"
     ]
    }
   ],
   "source": [
    "Console.WriteLine(Math.Round(4.3)); // rounding\n",
    "Console.WriteLine(Math.Round(4.6)); // rounding"
   ]
  },
  {
   "cell_type": "markdown",
   "metadata": {},
   "source": [
    "# Getting user input"
   ]
  },
  {
   "cell_type": "code",
   "execution_count": null,
   "metadata": {
    "dotnet_interactive": {
     "language": "csharp"
    },
    "vscode": {
     "languageId": "dotnet-interactive.csharp"
    }
   },
   "outputs": [
    {
     "name": "stdout",
     "output_type": "stream",
     "text": [
      "Hello\r\n"
     ]
    }
   ],
   "source": [
    "Console.WriteLine(\"Hello\");\n",
    "Console.ReadLine(); // waits for user to enter something"
   ]
  }
 ],
 "metadata": {
  "kernelspec": {
   "display_name": ".NET (C#)",
   "language": "C#",
   "name": ".net-csharp"
  },
  "language_info": {
   "file_extension": ".cs",
   "mimetype": "text/x-csharp",
   "name": "C#",
   "pygments_lexer": "csharp",
   "version": "9.0"
  },
  "orig_nbformat": 4
 },
 "nbformat": 4,
 "nbformat_minor": 2
}
