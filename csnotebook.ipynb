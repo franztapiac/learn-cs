{
 "cells": [
  {
   "cell_type": "markdown",
   "metadata": {},
   "source": [
    "Learning C Sharp (freeCodeCamp.org)"
   ]
  },
  {
   "cell_type": "markdown",
   "metadata": {},
   "source": [
    "namespace < your namespace >\n",
    "{\n",
    "    class Program\n",
    "    {\n",
    "        static void Main(string[] args)\n",
    "        {\n",
    "            ... each piece of code below\n",
    "        }\n",
    "    }\n",
    "}"
   ]
  },
  {
   "cell_type": "markdown",
   "metadata": {},
   "source": [
    "Working with strings"
   ]
  },
  {
   "cell_type": "code",
   "execution_count": null,
   "metadata": {
    "dotnet_interactive": {
     "language": "csharp"
    },
    "vscode": {
     "languageId": "dotnet-interactive.csharp"
    }
   },
   "outputs": [
    {
     "name": "stdout",
     "output_type": "stream",
     "text": [
      "Giraffe\n",
      "Academy\r\n",
      "Giraffe\"Academy\r\n"
     ]
    }
   ],
   "source": [
    "Console.WriteLine(\"Giraffe\\nAcademy\");\n",
    "Console.WriteLine(\"Giraffe\\\"Academy\");"
   ]
  },
  {
   "cell_type": "code",
   "execution_count": null,
   "metadata": {
    "dotnet_interactive": {
     "language": "csharp"
    },
    "vscode": {
     "languageId": "dotnet-interactive.csharp"
    }
   },
   "outputs": [
    {
     "name": "stdout",
     "output_type": "stream",
     "text": [
      "Giraffe Academy\r\n",
      "Giraffe Academy is cool\r\n"
     ]
    }
   ],
   "source": [
    "string phrase = \"Giraffe Academy\";\n",
    "Console.WriteLine(phrase);\n",
    "\n",
    "string phrase2 = phrase + \" is cool\";\n",
    "Console.WriteLine(phrase2);\n"
   ]
  },
  {
   "cell_type": "code",
   "execution_count": null,
   "metadata": {
    "dotnet_interactive": {
     "language": "csharp"
    },
    "vscode": {
     "languageId": "dotnet-interactive.csharp"
    }
   },
   "outputs": [
    {
     "name": "stdout",
     "output_type": "stream",
     "text": [
      "15\r\n",
      "GIRAFFE ACADEMY\r\n",
      "giraffe academy\r\n",
      "True\r\n",
      "False\r\n",
      "G\r\n",
      "r\r\n"
     ]
    }
   ],
   "source": [
    "Console.WriteLine(phrase.Length); // Length is a method\n",
    "\n",
    "Console.WriteLine(phrase.ToUpper()); // uppercade method\n",
    "Console.WriteLine(phrase.ToLower()); // lowercase method\n",
    "\n",
    "Console.WriteLine(phrase.Contains(\"Academy\"));\n",
    "Console.WriteLine(phrase.Contains(\"Academies\"));\n",
    "\n",
    "Console.WriteLine(phrase[0]); // 0 indexed\n",
    "Console.WriteLine(phrase[2]); // 0 indexed"
   ]
  }
 ],
 "metadata": {
  "kernelspec": {
   "display_name": ".NET (C#)",
   "language": "C#",
   "name": ".net-csharp"
  },
  "language_info": {
   "file_extension": ".cs",
   "mimetype": "text/x-csharp",
   "name": "C#",
   "pygments_lexer": "csharp",
   "version": "9.0"
  },
  "orig_nbformat": 4
 },
 "nbformat": 4,
 "nbformat_minor": 2
}
